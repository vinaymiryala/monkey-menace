{
  "nbformat": 4,
  "nbformat_minor": 0,
  "metadata": {
    "colab": {
      "provenance": [],
      "include_colab_link": true
    },
    "kernelspec": {
      "name": "python3",
      "display_name": "Python 3"
    },
    "language_info": {
      "name": "python"
    },
    "gpuClass": "standard",
    "accelerator": "GPU"
  },
  "cells": [
    {
      "cell_type": "markdown",
      "metadata": {
        "id": "view-in-github",
        "colab_type": "text"
      },
      "source": [
        "<a href=\"https://colab.research.google.com/github/vinaymiryala/bootstrap-example/blob/main/Monkey_Menace.ipynb\" target=\"_parent\"><img src=\"https://colab.research.google.com/assets/colab-badge.svg\" alt=\"Open In Colab\"/></a>"
      ]
    },
    {
      "cell_type": "markdown",
      "source": [
        "IMPORTING DATASETS FROM ROBOFLOW"
      ],
      "metadata": {
        "id": "elTgH0Cdw5Fp"
      }
    },
    {
      "cell_type": "code",
      "execution_count": null,
      "metadata": {
        "colab": {
          "base_uri": "https://localhost:8080/"
        },
        "id": "kE9WEX0twy7a",
        "outputId": "9a235f8e-c22f-4702-bff1-82fcdabdc256"
      },
      "outputs": [
        {
          "output_type": "stream",
          "name": "stdout",
          "text": [
            "Looking in indexes: https://pypi.org/simple, https://us-python.pkg.dev/colab-wheels/public/simple/\n",
            "Collecting roboflow\n",
            "  Downloading roboflow-1.0.5-py3-none-any.whl (56 kB)\n",
            "\u001b[2K     \u001b[90m━━━━━━━━━━━━━━━━━━━━━━━━━━━━━━━━━━━━━━━━\u001b[0m \u001b[32m56.2/56.2 kB\u001b[0m \u001b[31m2.6 MB/s\u001b[0m eta \u001b[36m0:00:00\u001b[0m\n",
            "\u001b[?25hCollecting wget\n",
            "  Downloading wget-3.2.zip (10 kB)\n",
            "  Preparing metadata (setup.py) ... \u001b[?25l\u001b[?25hdone\n",
            "Collecting cycler==0.10.0\n",
            "  Downloading cycler-0.10.0-py2.py3-none-any.whl (6.5 kB)\n",
            "Requirement already satisfied: PyYAML>=5.3.1 in /usr/local/lib/python3.10/dist-packages (from roboflow) (6.0)\n",
            "Requirement already satisfied: six in /usr/local/lib/python3.10/dist-packages (from roboflow) (1.16.0)\n",
            "Collecting python-dotenv\n",
            "  Downloading python_dotenv-1.0.0-py3-none-any.whl (19 kB)\n",
            "Requirement already satisfied: numpy>=1.18.5 in /usr/local/lib/python3.10/dist-packages (from roboflow) (1.24.3)\n",
            "Requirement already satisfied: opencv-python>=4.1.2 in /usr/local/lib/python3.10/dist-packages (from roboflow) (4.7.0.72)\n",
            "Requirement already satisfied: chardet==4.0.0 in /usr/local/lib/python3.10/dist-packages (from roboflow) (4.0.0)\n",
            "Collecting idna==2.10\n",
            "  Downloading idna-2.10-py2.py3-none-any.whl (58 kB)\n",
            "\u001b[2K     \u001b[90m━━━━━━━━━━━━━━━━━━━━━━━━━━━━━━━━━━━━━━━━\u001b[0m \u001b[32m58.8/58.8 kB\u001b[0m \u001b[31m8.6 MB/s\u001b[0m eta \u001b[36m0:00:00\u001b[0m\n",
            "\u001b[?25hCollecting requests-toolbelt\n",
            "  Downloading requests_toolbelt-0.10.1-py2.py3-none-any.whl (54 kB)\n",
            "\u001b[2K     \u001b[90m━━━━━━━━━━━━━━━━━━━━━━━━━━━━━━━━━━━━━━━━\u001b[0m \u001b[32m54.5/54.5 kB\u001b[0m \u001b[31m8.1 MB/s\u001b[0m eta \u001b[36m0:00:00\u001b[0m\n",
            "\u001b[?25hRequirement already satisfied: requests in /usr/local/lib/python3.10/dist-packages (from roboflow) (2.29.0)\n",
            "Requirement already satisfied: python-dateutil in /usr/local/lib/python3.10/dist-packages (from roboflow) (2.8.2)\n",
            "Collecting pyparsing==2.4.7\n",
            "  Downloading pyparsing-2.4.7-py2.py3-none-any.whl (67 kB)\n",
            "\u001b[2K     \u001b[90m━━━━━━━━━━━━━━━━━━━━━━━━━━━━━━━━━━━━━━━━\u001b[0m \u001b[32m67.8/67.8 kB\u001b[0m \u001b[31m8.4 MB/s\u001b[0m eta \u001b[36m0:00:00\u001b[0m\n",
            "\u001b[?25hRequirement already satisfied: tqdm>=4.41.0 in /usr/local/lib/python3.10/dist-packages (from roboflow) (4.65.0)\n",
            "Requirement already satisfied: kiwisolver>=1.3.1 in /usr/local/lib/python3.10/dist-packages (from roboflow) (1.4.4)\n",
            "Requirement already satisfied: matplotlib in /usr/local/lib/python3.10/dist-packages (from roboflow) (3.7.1)\n",
            "Requirement already satisfied: certifi==2022.12.7 in /usr/local/lib/python3.10/dist-packages (from roboflow) (2022.12.7)\n",
            "Requirement already satisfied: Pillow>=7.1.2 in /usr/local/lib/python3.10/dist-packages (from roboflow) (9.5.0)\n",
            "Requirement already satisfied: urllib3>=1.26.6 in /usr/local/lib/python3.10/dist-packages (from roboflow) (1.26.15)\n",
            "Requirement already satisfied: packaging>=20.0 in /usr/local/lib/python3.10/dist-packages (from matplotlib->roboflow) (23.1)\n",
            "Requirement already satisfied: fonttools>=4.22.0 in /usr/local/lib/python3.10/dist-packages (from matplotlib->roboflow) (4.39.3)\n",
            "Requirement already satisfied: contourpy>=1.0.1 in /usr/local/lib/python3.10/dist-packages (from matplotlib->roboflow) (1.0.7)\n",
            "Requirement already satisfied: charset-normalizer<4,>=2 in /usr/local/lib/python3.10/dist-packages (from requests->roboflow) (2.0.12)\n",
            "Building wheels for collected packages: wget\n",
            "  Building wheel for wget (setup.py) ... \u001b[?25l\u001b[?25hdone\n",
            "  Created wheel for wget: filename=wget-3.2-py3-none-any.whl size=9676 sha256=5b25c5e0391bd0fe6586473272f35f0fc380242ea48b3634970ceaebda763afd\n",
            "  Stored in directory: /root/.cache/pip/wheels/8b/f1/7f/5c94f0a7a505ca1c81cd1d9208ae2064675d97582078e6c769\n",
            "Successfully built wget\n",
            "Installing collected packages: wget, python-dotenv, pyparsing, idna, cycler, requests-toolbelt, roboflow\n",
            "  Attempting uninstall: pyparsing\n",
            "    Found existing installation: pyparsing 3.0.9\n",
            "    Uninstalling pyparsing-3.0.9:\n",
            "      Successfully uninstalled pyparsing-3.0.9\n",
            "  Attempting uninstall: idna\n",
            "    Found existing installation: idna 3.4\n",
            "    Uninstalling idna-3.4:\n",
            "      Successfully uninstalled idna-3.4\n",
            "  Attempting uninstall: cycler\n",
            "    Found existing installation: cycler 0.11.0\n",
            "    Uninstalling cycler-0.11.0:\n",
            "      Successfully uninstalled cycler-0.11.0\n",
            "\u001b[31mERROR: pip's dependency resolver does not currently take into account all the packages that are installed. This behaviour is the source of the following dependency conflicts.\n",
            "google-colab 1.0.0 requires pandas~=1.5.3, but you have pandas 2.0.1 which is incompatible.\u001b[0m\u001b[31m\n",
            "\u001b[0mSuccessfully installed cycler-0.10.0 idna-2.10 pyparsing-2.4.7 python-dotenv-1.0.0 requests-toolbelt-0.10.1 roboflow-1.0.5 wget-3.2\n",
            "loading Roboflow workspace...\n",
            "loading Roboflow project...\n",
            "Downloading Dataset Version Zip in Monkey-Menace-11 to yolov5pytorch: 100% [188503370 / 188503370] bytes\n"
          ]
        },
        {
          "output_type": "stream",
          "name": "stderr",
          "text": [
            "Extracting Dataset Version Zip to Monkey-Menace-11 in yolov5pytorch:: 100%|██████████| 2858/2858 [00:01<00:00, 1705.63it/s]\n"
          ]
        }
      ],
      "source": [
        "!pip install roboflow\n",
        "\n",
        "from roboflow import Roboflow\n",
        "rf = Roboflow(api_key=\"SFEcTKp9qfwEfwlerrhc\")\n",
        "project = rf.workspace(\"mp-04zxs\").project(\"monkey-menace\")\n",
        "dataset = project.version(11).download(\"yolov5\")\n",
        "\n",
        "\n"
      ]
    },
    {
      "cell_type": "code",
      "source": [
        "pip install pandas~"
      ],
      "metadata": {
        "id": "ClpZjd8Ni6oR"
      },
      "execution_count": null,
      "outputs": []
    },
    {
      "cell_type": "markdown",
      "source": [
        "## **Changing Current Directory and removing Root directory**\n"
      ],
      "metadata": {
        "id": "RYfo0vIkyX_r"
      }
    },
    {
      "cell_type": "code",
      "source": [
        "! cd /content\n",
        "! rm -rf yolov5"
      ],
      "metadata": {
        "id": "ezpBTLnXOPdR"
      },
      "execution_count": null,
      "outputs": []
    },
    {
      "cell_type": "markdown",
      "source": [
        "# Cloning  Yolov5"
      ],
      "metadata": {
        "id": "4psHP7v44wcI"
      }
    },
    {
      "cell_type": "code",
      "source": [
        "! git clone https://github.com/ultralytics/yolov5\n",
        "! pip install -U -r yolov5/requirements.txt"
      ],
      "metadata": {
        "id": "bDGD0DhtyCEg",
        "colab": {
          "base_uri": "https://localhost:8080/"
        },
        "outputId": "2167d2e5-5da7-4348-ba72-783f521bc1e7"
      },
      "execution_count": null,
      "outputs": [
        {
          "output_type": "stream",
          "name": "stdout",
          "text": [
            "Cloning into 'yolov5'...\n",
            "remote: Enumerating objects: 15615, done.\u001b[K\n",
            "remote: Counting objects: 100% (222/222), done.\u001b[K\n",
            "remote: Compressing objects: 100% (162/162), done.\u001b[K\n",
            "remote: Total 15615 (delta 104), reused 125 (delta 60), pack-reused 15393\u001b[K\n",
            "Receiving objects: 100% (15615/15615), 14.66 MiB | 23.41 MiB/s, done.\n",
            "Resolving deltas: 100% (10628/10628), done.\n",
            "Looking in indexes: https://pypi.org/simple, https://us-python.pkg.dev/colab-wheels/public/simple/\n",
            "Collecting gitpython>=3.1.30\n",
            "  Downloading GitPython-3.1.31-py3-none-any.whl (184 kB)\n",
            "\u001b[2K     \u001b[90m━━━━━━━━━━━━━━━━━━━━━━━━━━━━━━━━━━━━━━━\u001b[0m \u001b[32m184.3/184.3 kB\u001b[0m \u001b[31m4.7 MB/s\u001b[0m eta \u001b[36m0:00:00\u001b[0m\n",
            "\u001b[?25hRequirement already satisfied: matplotlib>=3.3 in /usr/local/lib/python3.10/dist-packages (from -r yolov5/requirements.txt (line 6)) (3.7.1)\n",
            "Requirement already satisfied: numpy>=1.18.5 in /usr/local/lib/python3.10/dist-packages (from -r yolov5/requirements.txt (line 7)) (1.22.4)\n",
            "Collecting numpy>=1.18.5\n",
            "  Downloading numpy-1.24.3-cp310-cp310-manylinux_2_17_x86_64.manylinux2014_x86_64.whl (17.3 MB)\n",
            "\u001b[2K     \u001b[90m━━━━━━━━━━━━━━━━━━━━━━━━━━━━━━━━━━━━━━━━\u001b[0m \u001b[32m17.3/17.3 MB\u001b[0m \u001b[31m45.5 MB/s\u001b[0m eta \u001b[36m0:00:00\u001b[0m\n",
            "\u001b[?25hRequirement already satisfied: opencv-python>=4.1.1 in /usr/local/lib/python3.10/dist-packages (from -r yolov5/requirements.txt (line 8)) (4.7.0.72)\n",
            "Requirement already satisfied: Pillow>=7.1.2 in /usr/local/lib/python3.10/dist-packages (from -r yolov5/requirements.txt (line 9)) (8.4.0)\n",
            "Collecting Pillow>=7.1.2\n",
            "  Downloading Pillow-9.5.0-cp310-cp310-manylinux_2_28_x86_64.whl (3.4 MB)\n",
            "\u001b[2K     \u001b[90m━━━━━━━━━━━━━━━━━━━━━━━━━━━━━━━━━━━━━━━━\u001b[0m \u001b[32m3.4/3.4 MB\u001b[0m \u001b[31m54.8 MB/s\u001b[0m eta \u001b[36m0:00:00\u001b[0m\n",
            "\u001b[?25hRequirement already satisfied: psutil in /usr/local/lib/python3.10/dist-packages (from -r yolov5/requirements.txt (line 10)) (5.9.5)\n",
            "Requirement already satisfied: PyYAML>=5.3.1 in /usr/local/lib/python3.10/dist-packages (from -r yolov5/requirements.txt (line 11)) (6.0)\n",
            "Requirement already satisfied: requests>=2.23.0 in /usr/local/lib/python3.10/dist-packages (from -r yolov5/requirements.txt (line 12)) (2.27.1)\n",
            "Collecting requests>=2.23.0\n",
            "  Downloading requests-2.29.0-py3-none-any.whl (62 kB)\n",
            "\u001b[2K     \u001b[90m━━━━━━━━━━━━━━━━━━━━━━━━━━━━━━━━━━━━━━━\u001b[0m \u001b[32m62.5/62.5 kB\u001b[0m \u001b[31m828.7 kB/s\u001b[0m eta \u001b[36m0:00:00\u001b[0m\n",
            "\u001b[?25hRequirement already satisfied: scipy>=1.4.1 in /usr/local/lib/python3.10/dist-packages (from -r yolov5/requirements.txt (line 13)) (1.10.1)\n",
            "Collecting thop>=0.1.1\n",
            "  Downloading thop-0.1.1.post2209072238-py3-none-any.whl (15 kB)\n",
            "Requirement already satisfied: torch>=1.7.0 in /usr/local/lib/python3.10/dist-packages (from -r yolov5/requirements.txt (line 15)) (2.0.0+cu118)\n",
            "Requirement already satisfied: torchvision>=0.8.1 in /usr/local/lib/python3.10/dist-packages (from -r yolov5/requirements.txt (line 16)) (0.15.1+cu118)\n",
            "Requirement already satisfied: tqdm>=4.64.0 in /usr/local/lib/python3.10/dist-packages (from -r yolov5/requirements.txt (line 17)) (4.65.0)\n",
            "Requirement already satisfied: pandas>=1.1.4 in /usr/local/lib/python3.10/dist-packages (from -r yolov5/requirements.txt (line 26)) (1.5.3)\n",
            "Collecting pandas>=1.1.4\n",
            "  Downloading pandas-2.0.1-cp310-cp310-manylinux_2_17_x86_64.manylinux2014_x86_64.whl (12.3 MB)\n",
            "\u001b[2K     \u001b[90m━━━━━━━━━━━━━━━━━━━━━━━━━━━━━━━━━━━━━━━\u001b[0m \u001b[32m12.3/12.3 MB\u001b[0m \u001b[31m102.2 MB/s\u001b[0m eta \u001b[36m0:00:00\u001b[0m\n",
            "\u001b[?25hRequirement already satisfied: seaborn>=0.11.0 in /usr/local/lib/python3.10/dist-packages (from -r yolov5/requirements.txt (line 27)) (0.12.2)\n",
            "Requirement already satisfied: setuptools>=65.5.1 in /usr/local/lib/python3.10/dist-packages (from -r yolov5/requirements.txt (line 41)) (67.7.2)\n",
            "Collecting gitdb<5,>=4.0.1\n",
            "  Downloading gitdb-4.0.10-py3-none-any.whl (62 kB)\n",
            "\u001b[2K     \u001b[90m━━━━━━━━━━━━━━━━━━━━━━━━━━━━━━━━━━━━━━━━\u001b[0m \u001b[32m62.7/62.7 kB\u001b[0m \u001b[31m9.1 MB/s\u001b[0m eta \u001b[36m0:00:00\u001b[0m\n",
            "\u001b[?25hRequirement already satisfied: packaging>=20.0 in /usr/local/lib/python3.10/dist-packages (from matplotlib>=3.3->-r yolov5/requirements.txt (line 6)) (23.1)\n",
            "Requirement already satisfied: pyparsing>=2.3.1 in /usr/local/lib/python3.10/dist-packages (from matplotlib>=3.3->-r yolov5/requirements.txt (line 6)) (3.0.9)\n",
            "Requirement already satisfied: kiwisolver>=1.0.1 in /usr/local/lib/python3.10/dist-packages (from matplotlib>=3.3->-r yolov5/requirements.txt (line 6)) (1.4.4)\n",
            "Requirement already satisfied: fonttools>=4.22.0 in /usr/local/lib/python3.10/dist-packages (from matplotlib>=3.3->-r yolov5/requirements.txt (line 6)) (4.39.3)\n",
            "Requirement already satisfied: contourpy>=1.0.1 in /usr/local/lib/python3.10/dist-packages (from matplotlib>=3.3->-r yolov5/requirements.txt (line 6)) (1.0.7)\n",
            "Requirement already satisfied: cycler>=0.10 in /usr/local/lib/python3.10/dist-packages (from matplotlib>=3.3->-r yolov5/requirements.txt (line 6)) (0.11.0)\n",
            "Requirement already satisfied: python-dateutil>=2.7 in /usr/local/lib/python3.10/dist-packages (from matplotlib>=3.3->-r yolov5/requirements.txt (line 6)) (2.8.2)\n",
            "Requirement already satisfied: idna<4,>=2.5 in /usr/local/lib/python3.10/dist-packages (from requests>=2.23.0->-r yolov5/requirements.txt (line 12)) (3.4)\n",
            "Requirement already satisfied: urllib3<1.27,>=1.21.1 in /usr/local/lib/python3.10/dist-packages (from requests>=2.23.0->-r yolov5/requirements.txt (line 12)) (1.26.15)\n",
            "Requirement already satisfied: certifi>=2017.4.17 in /usr/local/lib/python3.10/dist-packages (from requests>=2.23.0->-r yolov5/requirements.txt (line 12)) (2022.12.7)\n",
            "Requirement already satisfied: charset-normalizer<4,>=2 in /usr/local/lib/python3.10/dist-packages (from requests>=2.23.0->-r yolov5/requirements.txt (line 12)) (2.0.12)\n",
            "Requirement already satisfied: triton==2.0.0 in /usr/local/lib/python3.10/dist-packages (from torch>=1.7.0->-r yolov5/requirements.txt (line 15)) (2.0.0)\n",
            "Requirement already satisfied: typing-extensions in /usr/local/lib/python3.10/dist-packages (from torch>=1.7.0->-r yolov5/requirements.txt (line 15)) (4.5.0)\n",
            "Requirement already satisfied: jinja2 in /usr/local/lib/python3.10/dist-packages (from torch>=1.7.0->-r yolov5/requirements.txt (line 15)) (3.1.2)\n",
            "Requirement already satisfied: networkx in /usr/local/lib/python3.10/dist-packages (from torch>=1.7.0->-r yolov5/requirements.txt (line 15)) (3.1)\n",
            "Requirement already satisfied: filelock in /usr/local/lib/python3.10/dist-packages (from torch>=1.7.0->-r yolov5/requirements.txt (line 15)) (3.12.0)\n",
            "Requirement already satisfied: sympy in /usr/local/lib/python3.10/dist-packages (from torch>=1.7.0->-r yolov5/requirements.txt (line 15)) (1.11.1)\n",
            "Requirement already satisfied: cmake in /usr/local/lib/python3.10/dist-packages (from triton==2.0.0->torch>=1.7.0->-r yolov5/requirements.txt (line 15)) (3.25.2)\n",
            "Requirement already satisfied: lit in /usr/local/lib/python3.10/dist-packages (from triton==2.0.0->torch>=1.7.0->-r yolov5/requirements.txt (line 15)) (16.0.2)\n",
            "Requirement already satisfied: pytz>=2020.1 in /usr/local/lib/python3.10/dist-packages (from pandas>=1.1.4->-r yolov5/requirements.txt (line 26)) (2022.7.1)\n",
            "Requirement already satisfied: tzdata>=2022.1 in /usr/local/lib/python3.10/dist-packages (from pandas>=1.1.4->-r yolov5/requirements.txt (line 26)) (2023.3)\n",
            "Collecting smmap<6,>=3.0.1\n",
            "  Downloading smmap-5.0.0-py3-none-any.whl (24 kB)\n",
            "Requirement already satisfied: six>=1.5 in /usr/local/lib/python3.10/dist-packages (from python-dateutil>=2.7->matplotlib>=3.3->-r yolov5/requirements.txt (line 6)) (1.16.0)\n",
            "Requirement already satisfied: MarkupSafe>=2.0 in /usr/local/lib/python3.10/dist-packages (from jinja2->torch>=1.7.0->-r yolov5/requirements.txt (line 15)) (2.1.2)\n",
            "Requirement already satisfied: mpmath>=0.19 in /usr/local/lib/python3.10/dist-packages (from sympy->torch>=1.7.0->-r yolov5/requirements.txt (line 15)) (1.3.0)\n",
            "Installing collected packages: smmap, requests, Pillow, numpy, pandas, gitdb, gitpython, thop\n",
            "  Attempting uninstall: requests\n",
            "    Found existing installation: requests 2.27.1\n",
            "    Uninstalling requests-2.27.1:\n",
            "      Successfully uninstalled requests-2.27.1\n",
            "  Attempting uninstall: Pillow\n",
            "    Found existing installation: Pillow 8.4.0\n",
            "    Uninstalling Pillow-8.4.0:\n",
            "      Successfully uninstalled Pillow-8.4.0\n",
            "  Attempting uninstall: numpy\n",
            "    Found existing installation: numpy 1.22.4\n",
            "    Uninstalling numpy-1.22.4:\n",
            "      Successfully uninstalled numpy-1.22.4\n",
            "  Attempting uninstall: pandas\n",
            "    Found existing installation: pandas 1.5.3\n",
            "    Uninstalling pandas-1.5.3:\n",
            "      Successfully uninstalled pandas-1.5.3\n",
            "\u001b[31mERROR: pip's dependency resolver does not currently take into account all the packages that are installed. This behaviour is the source of the following dependency conflicts.\n",
            "tensorflow 2.12.0 requires numpy<1.24,>=1.22, but you have numpy 1.24.3 which is incompatible.\n",
            "numba 0.56.4 requires numpy<1.24,>=1.18, but you have numpy 1.24.3 which is incompatible.\n",
            "google-colab 1.0.0 requires pandas~=1.5.3, but you have pandas 2.0.1 which is incompatible.\u001b[0m\u001b[31m\n",
            "\u001b[0mSuccessfully installed Pillow-9.5.0 gitdb-4.0.10 gitpython-3.1.31 numpy-1.24.3 pandas-2.0.1 requests-2.29.0 smmap-5.0.0 thop-0.1.1.post2209072238\n"
          ]
        }
      ]
    },
    {
      "cell_type": "markdown",
      "source": [
        "### Changing the directory to Yolov5 directory"
      ],
      "metadata": {
        "id": "A2mojmq05JxR"
      }
    },
    {
      "cell_type": "code",
      "source": [
        "cd /content/yolov5"
      ],
      "metadata": {
        "colab": {
          "base_uri": "https://localhost:8080/"
        },
        "id": "YU9c5UUaKFO7",
        "outputId": "94fc9425-8920-4003-9bb6-465fdd9aaf50"
      },
      "execution_count": null,
      "outputs": [
        {
          "output_type": "stream",
          "name": "stdout",
          "text": [
            "/content/yolov5\n"
          ]
        }
      ]
    },
    {
      "cell_type": "markdown",
      "source": [
        "### Training the Images\n"
      ],
      "metadata": {
        "id": "wywaZSTf6N7q"
      }
    },
    {
      "cell_type": "code",
      "source": [
        "!python train.py --img 640 --batch 16 --epochs 15 \\\n",
        "  --data /content/yolov5/Monkey-Menace-11/data.yaml --cfg /content/yolov5/models/yolov5s.yaml  --name yolov5x_animal --cache"
      ],
      "metadata": {
        "colab": {
          "base_uri": "https://localhost:8080/"
        },
        "id": "52FVJfP-KFUm",
        "outputId": "5f69c78d-df7f-4977-b657-f8c2657e1918"
      },
      "execution_count": null,
      "outputs": [
        {
          "output_type": "stream",
          "name": "stdout",
          "text": [
            "\u001b[34m\u001b[1mtrain: \u001b[0mweights=yolov5s.pt, cfg=/content/yolov5/models/yolov5s.yaml, data=/content/yolov5/Monkey-Menace-11/data.yaml, hyp=data/hyps/hyp.scratch-low.yaml, epochs=15, batch_size=16, imgsz=640, rect=False, resume=False, nosave=False, noval=False, noautoanchor=False, noplots=False, evolve=None, bucket=, cache=ram, image_weights=False, device=, multi_scale=False, single_cls=False, optimizer=SGD, sync_bn=False, workers=8, project=runs/train, name=yolov5x_animal, exist_ok=False, quad=False, cos_lr=False, label_smoothing=0.0, patience=100, freeze=[0], save_period=-1, seed=0, local_rank=-1, entity=None, upload_dataset=False, bbox_interval=-1, artifact_alias=latest\n",
            "\u001b[34m\u001b[1mgithub: \u001b[0mup to date with https://github.com/ultralytics/yolov5 ✅\n",
            "\u001b[31m\u001b[1mrequirements:\u001b[0m /content/requirements.txt not found, check failed.\n",
            "YOLOv5 🚀 v7.0-158-g8211a03 Python-3.10.11 torch-2.0.0+cu118 CUDA:0 (Tesla T4, 15102MiB)\n",
            "\n",
            "\u001b[34m\u001b[1mhyperparameters: \u001b[0mlr0=0.01, lrf=0.01, momentum=0.937, weight_decay=0.0005, warmup_epochs=3.0, warmup_momentum=0.8, warmup_bias_lr=0.1, box=0.05, cls=0.5, cls_pw=1.0, obj=1.0, obj_pw=1.0, iou_t=0.2, anchor_t=4.0, fl_gamma=0.0, hsv_h=0.015, hsv_s=0.7, hsv_v=0.4, degrees=0.0, translate=0.1, scale=0.5, shear=0.0, perspective=0.0, flipud=0.0, fliplr=0.5, mosaic=1.0, mixup=0.0, copy_paste=0.0\n",
            "\u001b[34m\u001b[1mClearML: \u001b[0mrun 'pip install clearml' to automatically track, visualize and remotely train YOLOv5 🚀 in ClearML\n",
            "\u001b[34m\u001b[1mComet: \u001b[0mrun 'pip install comet_ml' to automatically track and visualize YOLOv5 🚀 runs in Comet\n",
            "\u001b[34m\u001b[1mTensorBoard: \u001b[0mStart with 'tensorboard --logdir runs/train', view at http://localhost:6006/\n",
            "Downloading https://ultralytics.com/assets/Arial.ttf to /root/.config/Ultralytics/Arial.ttf...\n",
            "100% 755k/755k [00:00<00:00, 17.2MB/s]\n",
            "Downloading https://github.com/ultralytics/yolov5/releases/download/v7.0/yolov5s.pt to yolov5s.pt...\n",
            "100% 14.1M/14.1M [00:00<00:00, 137MB/s]\n",
            "\n",
            "Overriding model.yaml nc=80 with nc=2\n",
            "\n",
            "                 from  n    params  module                                  arguments                     \n",
            "  0                -1  1      3520  models.common.Conv                      [3, 32, 6, 2, 2]              \n",
            "  1                -1  1     18560  models.common.Conv                      [32, 64, 3, 2]                \n",
            "  2                -1  1     18816  models.common.C3                        [64, 64, 1]                   \n",
            "  3                -1  1     73984  models.common.Conv                      [64, 128, 3, 2]               \n",
            "  4                -1  2    115712  models.common.C3                        [128, 128, 2]                 \n",
            "  5                -1  1    295424  models.common.Conv                      [128, 256, 3, 2]              \n",
            "  6                -1  3    625152  models.common.C3                        [256, 256, 3]                 \n",
            "  7                -1  1   1180672  models.common.Conv                      [256, 512, 3, 2]              \n",
            "  8                -1  1   1182720  models.common.C3                        [512, 512, 1]                 \n",
            "  9                -1  1    656896  models.common.SPPF                      [512, 512, 5]                 \n",
            " 10                -1  1    131584  models.common.Conv                      [512, 256, 1, 1]              \n",
            " 11                -1  1         0  torch.nn.modules.upsampling.Upsample    [None, 2, 'nearest']          \n",
            " 12           [-1, 6]  1         0  models.common.Concat                    [1]                           \n",
            " 13                -1  1    361984  models.common.C3                        [512, 256, 1, False]          \n",
            " 14                -1  1     33024  models.common.Conv                      [256, 128, 1, 1]              \n",
            " 15                -1  1         0  torch.nn.modules.upsampling.Upsample    [None, 2, 'nearest']          \n",
            " 16           [-1, 4]  1         0  models.common.Concat                    [1]                           \n",
            " 17                -1  1     90880  models.common.C3                        [256, 128, 1, False]          \n",
            " 18                -1  1    147712  models.common.Conv                      [128, 128, 3, 2]              \n",
            " 19          [-1, 14]  1         0  models.common.Concat                    [1]                           \n",
            " 20                -1  1    296448  models.common.C3                        [256, 256, 1, False]          \n",
            " 21                -1  1    590336  models.common.Conv                      [256, 256, 3, 2]              \n",
            " 22          [-1, 10]  1         0  models.common.Concat                    [1]                           \n",
            " 23                -1  1   1182720  models.common.C3                        [512, 512, 1, False]          \n",
            " 24      [17, 20, 23]  1     18879  models.yolo.Detect                      [2, [[10, 13, 16, 30, 33, 23], [30, 61, 62, 45, 59, 119], [116, 90, 156, 198, 373, 326]], [128, 256, 512]]\n",
            "YOLOv5s summary: 214 layers, 7025023 parameters, 7025023 gradients, 16.0 GFLOPs\n",
            "\n",
            "Transferred 342/349 items from yolov5s.pt\n",
            "\u001b[34m\u001b[1mAMP: \u001b[0mchecks passed ✅\n",
            "\u001b[34m\u001b[1moptimizer:\u001b[0m SGD(lr=0.01) with parameter groups 57 weight(decay=0.0), 60 weight(decay=0.0005), 60 bias\n",
            "\u001b[34m\u001b[1malbumentations: \u001b[0mBlur(p=0.01, blur_limit=(3, 7)), MedianBlur(p=0.01, blur_limit=(3, 7)), ToGray(p=0.01), CLAHE(p=0.01, clip_limit=(1, 4.0), tile_grid_size=(8, 8))\n",
            "\u001b[34m\u001b[1mtrain: \u001b[0mScanning /content/yolov5/Monkey-Menace-11/train/labels... 995 images, 18 backgrounds, 0 corrupt: 100% 995/995 [00:00<00:00, 1598.76it/s]\n",
            "\u001b[34m\u001b[1mtrain: \u001b[0mNew cache created: /content/yolov5/Monkey-Menace-11/train/labels.cache\n",
            "\u001b[34m\u001b[1mtrain: \u001b[0mCaching images (0.8GB ram): 100% 995/995 [00:17<00:00, 57.44it/s]\n",
            "\u001b[34m\u001b[1mval: \u001b[0mScanning /content/yolov5/Monkey-Menace-11/valid/labels... 283 images, 3 backgrounds, 0 corrupt: 100% 283/283 [00:00<00:00, 352.44it/s]\n",
            "\u001b[34m\u001b[1mval: \u001b[0mNew cache created: /content/yolov5/Monkey-Menace-11/valid/labels.cache\n",
            "\u001b[34m\u001b[1mval: \u001b[0mCaching images (0.2GB ram): 100% 283/283 [00:06<00:00, 43.54it/s]\n",
            "\n",
            "\u001b[34m\u001b[1mAutoAnchor: \u001b[0m3.61 anchors/target, 0.998 Best Possible Recall (BPR). Current anchors are a good fit to dataset ✅\n",
            "Plotting labels to runs/train/yolov5x_animal/labels.jpg... \n",
            "Image sizes 640 train, 640 val\n",
            "Using 2 dataloader workers\n",
            "Logging results to \u001b[1mruns/train/yolov5x_animal\u001b[0m\n",
            "Starting training for 15 epochs...\n",
            "\n",
            "      Epoch    GPU_mem   box_loss   obj_loss   cls_loss  Instances       Size\n",
            "       0/14      3.44G    0.09139    0.02928    0.02259          7        640: 100% 63/63 [00:21<00:00,  2.97it/s]\n",
            "                 Class     Images  Instances          P          R      mAP50   mAP50-95: 100% 9/9 [00:03<00:00,  2.33it/s]\n",
            "                   all        283        331      0.781      0.272      0.239     0.0983\n",
            "\n",
            "      Epoch    GPU_mem   box_loss   obj_loss   cls_loss  Instances       Size\n",
            "       1/14      4.77G    0.06289    0.02386    0.01323          7        640: 100% 63/63 [00:15<00:00,  4.07it/s]\n",
            "                 Class     Images  Instances          P          R      mAP50   mAP50-95: 100% 9/9 [00:02<00:00,  4.11it/s]\n",
            "                   all        283        331       0.72      0.255      0.232      0.122\n",
            "\n",
            "      Epoch    GPU_mem   box_loss   obj_loss   cls_loss  Instances       Size\n",
            "       2/14      4.77G    0.05683    0.02122    0.01166          5        640: 100% 63/63 [00:17<00:00,  3.67it/s]\n",
            "                 Class     Images  Instances          P          R      mAP50   mAP50-95: 100% 9/9 [00:02<00:00,  3.10it/s]\n",
            "                   all        283        331      0.864      0.305      0.354      0.189\n",
            "\n",
            "      Epoch    GPU_mem   box_loss   obj_loss   cls_loss  Instances       Size\n",
            "       3/14      4.77G    0.04874    0.01964    0.01037         10        640: 100% 63/63 [00:14<00:00,  4.26it/s]\n",
            "                 Class     Images  Instances          P          R      mAP50   mAP50-95: 100% 9/9 [00:03<00:00,  2.67it/s]\n",
            "                   all        283        331      0.886       0.32      0.416      0.215\n",
            "\n",
            "      Epoch    GPU_mem   box_loss   obj_loss   cls_loss  Instances       Size\n",
            "       4/14      4.77G    0.04394    0.01826    0.01039          5        640: 100% 63/63 [00:15<00:00,  4.10it/s]\n",
            "                 Class     Images  Instances          P          R      mAP50   mAP50-95: 100% 9/9 [00:02<00:00,  3.95it/s]\n",
            "                   all        283        331      0.522      0.427      0.512      0.249\n",
            "\n",
            "      Epoch    GPU_mem   box_loss   obj_loss   cls_loss  Instances       Size\n",
            "       5/14      4.77G    0.04055    0.01644   0.009128          3        640: 100% 63/63 [00:15<00:00,  4.14it/s]\n",
            "                 Class     Images  Instances          P          R      mAP50   mAP50-95: 100% 9/9 [00:02<00:00,  4.08it/s]\n",
            "                   all        283        331       0.52      0.669       0.64      0.373\n",
            "\n",
            "      Epoch    GPU_mem   box_loss   obj_loss   cls_loss  Instances       Size\n",
            "       6/14      4.77G    0.03796    0.01598   0.008822          6        640: 100% 63/63 [00:15<00:00,  4.14it/s]\n",
            "                 Class     Images  Instances          P          R      mAP50   mAP50-95: 100% 9/9 [00:02<00:00,  4.05it/s]\n",
            "                   all        283        331      0.707       0.74      0.703      0.408\n",
            "\n",
            "      Epoch    GPU_mem   box_loss   obj_loss   cls_loss  Instances       Size\n",
            "       7/14      4.77G    0.03515    0.01519   0.007105          6        640: 100% 63/63 [00:15<00:00,  4.13it/s]\n",
            "                 Class     Images  Instances          P          R      mAP50   mAP50-95: 100% 9/9 [00:02<00:00,  3.92it/s]\n",
            "                   all        283        331      0.708      0.719      0.731      0.467\n",
            "\n",
            "      Epoch    GPU_mem   box_loss   obj_loss   cls_loss  Instances       Size\n",
            "       8/14      4.77G    0.03369    0.01482   0.007158          8        640: 100% 63/63 [00:15<00:00,  4.15it/s]\n",
            "                 Class     Images  Instances          P          R      mAP50   mAP50-95: 100% 9/9 [00:02<00:00,  3.59it/s]\n",
            "                   all        283        331      0.767      0.726       0.77      0.474\n",
            "\n",
            "      Epoch    GPU_mem   box_loss   obj_loss   cls_loss  Instances       Size\n",
            "       9/14      4.77G    0.03105    0.01386   0.006917          6        640: 100% 63/63 [00:14<00:00,  4.34it/s]\n",
            "                 Class     Images  Instances          P          R      mAP50   mAP50-95: 100% 9/9 [00:03<00:00,  2.64it/s]\n",
            "                   all        283        331      0.769        0.7      0.771      0.532\n",
            "\n",
            "      Epoch    GPU_mem   box_loss   obj_loss   cls_loss  Instances       Size\n",
            "      10/14      4.77G    0.02998    0.01408   0.007139          7        640: 100% 63/63 [00:14<00:00,  4.22it/s]\n",
            "                 Class     Images  Instances          P          R      mAP50   mAP50-95: 100% 9/9 [00:02<00:00,  3.26it/s]\n",
            "                   all        283        331      0.741      0.737      0.747      0.531\n",
            "\n",
            "      Epoch    GPU_mem   box_loss   obj_loss   cls_loss  Instances       Size\n",
            "      11/14      4.77G    0.02779    0.01373    0.00641          7        640: 100% 63/63 [00:15<00:00,  4.18it/s]\n",
            "                 Class     Images  Instances          P          R      mAP50   mAP50-95: 100% 9/9 [00:02<00:00,  4.02it/s]\n",
            "                   all        283        331      0.775      0.693      0.753      0.521\n",
            "\n",
            "      Epoch    GPU_mem   box_loss   obj_loss   cls_loss  Instances       Size\n",
            "      12/14      4.77G    0.02608    0.01272   0.006395          8        640: 100% 63/63 [00:15<00:00,  4.14it/s]\n",
            "                 Class     Images  Instances          P          R      mAP50   mAP50-95: 100% 9/9 [00:02<00:00,  3.96it/s]\n",
            "                   all        283        331      0.737      0.761      0.775      0.544\n",
            "\n",
            "      Epoch    GPU_mem   box_loss   obj_loss   cls_loss  Instances       Size\n",
            "      13/14      4.77G    0.02479    0.01268    0.00583         10        640: 100% 63/63 [00:17<00:00,  3.67it/s]\n",
            "                 Class     Images  Instances          P          R      mAP50   mAP50-95: 100% 9/9 [00:02<00:00,  4.05it/s]\n",
            "                   all        283        331      0.708      0.788      0.773      0.541\n",
            "\n",
            "      Epoch    GPU_mem   box_loss   obj_loss   cls_loss  Instances       Size\n",
            "      14/14      4.77G    0.02472    0.01312   0.005755          7        640: 100% 63/63 [00:15<00:00,  4.08it/s]\n",
            "                 Class     Images  Instances          P          R      mAP50   mAP50-95: 100% 9/9 [00:02<00:00,  4.12it/s]\n",
            "                   all        283        331      0.729       0.78      0.809      0.597\n",
            "\n",
            "15 epochs completed in 0.079 hours.\n",
            "Optimizer stripped from runs/train/yolov5x_animal/weights/last.pt, 14.4MB\n",
            "Optimizer stripped from runs/train/yolov5x_animal/weights/best.pt, 14.4MB\n",
            "\n",
            "Validating runs/train/yolov5x_animal/weights/best.pt...\n",
            "Fusing layers... \n",
            "YOLOv5s summary: 157 layers, 7015519 parameters, 0 gradients, 15.8 GFLOPs\n",
            "                 Class     Images  Instances          P          R      mAP50   mAP50-95: 100% 9/9 [00:05<00:00,  1.65it/s]\n",
            "                   all        283        331      0.729      0.782      0.809      0.596\n",
            "                Monkey        283         39      0.651       0.67      0.738      0.565\n",
            "               Monkeys        283        292      0.806      0.894       0.88      0.627\n",
            "Results saved to \u001b[1mruns/train/yolov5x_animal\u001b[0m\n"
          ]
        }
      ]
    },
    {
      "cell_type": "markdown",
      "source": [
        "### Detecting the Frames"
      ],
      "metadata": {
        "id": "d_v_974o6irg"
      }
    },
    {
      "cell_type": "code",
      "source": [
        "!python detect.py --weights /content/yolov5/runs/train/yolov5x_animal/weights/best.pt --img 640 --conf 0.15 --source /content/keys.mp4"
      ],
      "metadata": {
        "colab": {
          "base_uri": "https://localhost:8080/"
        },
        "id": "Avkr2wK2BKdC",
        "outputId": "db8bf566-bf7c-40ba-bc9f-c76894dca066"
      },
      "execution_count": null,
      "outputs": [
        {
          "output_type": "stream",
          "name": "stdout",
          "text": [
            "\u001b[34m\u001b[1mdetect: \u001b[0mweights=['/content/yolov5/runs/train/yolov5x_animal/weights/best.pt'], source=/content/keys.mp4, data=data/coco128.yaml, imgsz=[640, 640], conf_thres=0.15, iou_thres=0.45, max_det=1000, device=, view_img=False, save_txt=False, save_conf=False, save_crop=False, nosave=False, classes=None, agnostic_nms=False, augment=False, visualize=False, update=False, project=runs/detect, name=exp, exist_ok=False, line_thickness=3, hide_labels=False, hide_conf=False, half=False, dnn=False, vid_stride=1\n",
            "YOLOv5 🚀 v7.0-116-g5c91dae Python-3.8.10 torch-1.13.1+cu116 CUDA:0 (Tesla T4, 15102MiB)\n",
            "\n",
            "Fusing layers... \n",
            "YOLOv5s summary: 157 layers, 7015519 parameters, 0 gradients, 15.8 GFLOPs\n",
            "video 1/1 (1/4369) /content/keys.mp4: 384x640 1 Monkeys, 12.6ms\n",
            "video 1/1 (2/4369) /content/keys.mp4: 384x640 1 Monkeys, 12.6ms\n",
            "video 1/1 (3/4369) /content/keys.mp4: 384x640 1 Monkeys, 12.1ms\n",
            "video 1/1 (4/4369) /content/keys.mp4: 384x640 1 Monkeys, 10.1ms\n",
            "video 1/1 (5/4369) /content/keys.mp4: 384x640 1 Monkeys, 16.4ms\n",
            "video 1/1 (6/4369) /content/keys.mp4: 384x640 1 Monkeys, 22.0ms\n",
            "video 1/1 (7/4369) /content/keys.mp4: 384x640 1 Monkeys, 11.9ms\n",
            "video 1/1 (8/4369) /content/keys.mp4: 384x640 1 Monkeys, 13.5ms\n",
            "video 1/1 (9/4369) /content/keys.mp4: 384x640 1 Monkeys, 13.9ms\n",
            "video 1/1 (10/4369) /content/keys.mp4: 384x640 1 Monkeys, 12.8ms\n",
            "video 1/1 (11/4369) /content/keys.mp4: 384x640 1 Monkeys, 11.4ms\n",
            "video 1/1 (12/4369) /content/keys.mp4: 384x640 1 Monkeys, 10.9ms\n",
            "video 1/1 (13/4369) /content/keys.mp4: 384x640 1 Monkeys, 11.0ms\n",
            "video 1/1 (14/4369) /content/keys.mp4: 384x640 1 Monkeys, 12.1ms\n",
            "video 1/1 (15/4369) /content/keys.mp4: 384x640 1 Monkeys, 12.3ms\n",
            "video 1/1 (16/4369) /content/keys.mp4: 384x640 1 Monkeys, 13.6ms\n",
            "video 1/1 (17/4369) /content/keys.mp4: 384x640 1 Monkeys, 11.4ms\n",
            "video 1/1 (18/4369) /content/keys.mp4: 384x640 1 Monkeys, 13.8ms\n",
            "video 1/1 (19/4369) /content/keys.mp4: 384x640 1 Monkeys, 15.3ms\n",
            "video 1/1 (20/4369) /content/keys.mp4: 384x640 1 Monkeys, 16.1ms\n",
            "video 1/1 (21/4369) /content/keys.mp4: 384x640 1 Monkeys, 12.1ms\n",
            "video 1/1 (22/4369) /content/keys.mp4: 384x640 1 Monkeys, 12.4ms\n",
            "video 1/1 (23/4369) /content/keys.mp4: 384x640 1 Monkeys, 16.8ms\n",
            "video 1/1 (24/4369) /content/keys.mp4: 384x640 1 Monkeys, 17.7ms\n",
            "video 1/1 (25/4369) /content/keys.mp4: 384x640 1 Monkeys, 13.8ms\n",
            "video 1/1 (26/4369) /content/keys.mp4: 384x640 1 Monkeys, 20.0ms\n",
            "video 1/1 (27/4369) /content/keys.mp4: 384x640 1 Monkeys, 17.1ms\n",
            "video 1/1 (28/4369) /content/keys.mp4: 384x640 1 Monkeys, 24.8ms\n",
            "video 1/1 (29/4369) /content/keys.mp4: 384x640 1 Monkeys, 16.0ms\n",
            "video 1/1 (30/4369) /content/keys.mp4: 384x640 1 Monkeys, 17.9ms\n",
            "video 1/1 (31/4369) /content/keys.mp4: 384x640 1 Monkeys, 13.6ms\n",
            "video 1/1 (32/4369) /content/keys.mp4: 384x640 1 Monkeys, 9.4ms\n",
            "video 1/1 (33/4369) /content/keys.mp4: 384x640 1 Monkeys, 13.3ms\n",
            "video 1/1 (34/4369) /content/keys.mp4: 384x640 1 Monkeys, 12.0ms\n",
            "video 1/1 (35/4369) /content/keys.mp4: 384x640 1 Monkeys, 11.1ms\n",
            "video 1/1 (36/4369) /content/keys.mp4: 384x640 1 Monkeys, 10.9ms\n",
            "video 1/1 (37/4369) /content/keys.mp4: 384x640 1 Monkeys, 12.9ms\n",
            "video 1/1 (38/4369) /content/keys.mp4: 384x640 1 Monkeys, 11.6ms\n",
            "video 1/1 (39/4369) /content/keys.mp4: 384x640 1 Monkeys, 11.5ms\n",
            "video 1/1 (40/4369) /content/keys.mp4: 384x640 1 Monkeys, 11.1ms\n",
            "video 1/1 (41/4369) /content/keys.mp4: 384x640 1 Monkeys, 11.2ms\n",
            "video 1/1 (42/4369) /content/keys.mp4: 384x640 1 Monkeys, 11.9ms\n",
            "video 1/1 (43/4369) /content/keys.mp4: 384x640 1 Monkeys, 12.4ms\n",
            "video 1/1 (44/4369) /content/keys.mp4: 384x640 1 Monkeys, 11.2ms\n",
            "video 1/1 (45/4369) /content/keys.mp4: 384x640 1 Monkeys, 14.5ms\n",
            "video 1/1 (46/4369) /content/keys.mp4: 384x640 1 Monkeys, 12.3ms\n",
            "video 1/1 (47/4369) /content/keys.mp4: 384x640 1 Monkeys, 11.9ms\n",
            "video 1/1 (48/4369) /content/keys.mp4: 384x640 1 Monkeys, 12.7ms\n",
            "video 1/1 (49/4369) /content/keys.mp4: 384x640 1 Monkeys, 10.8ms\n",
            "video 1/1 (50/4369) /content/keys.mp4: 384x640 1 Monkeys, 12.0ms\n",
            "video 1/1 (51/4369) /content/keys.mp4: 384x640 1 Monkeys, 11.3ms\n",
            "video 1/1 (52/4369) /content/keys.mp4: 384x640 1 Monkeys, 10.3ms\n",
            "video 1/1 (53/4369) /content/keys.mp4: 384x640 1 Monkeys, 15.0ms\n",
            "video 1/1 (54/4369) /content/keys.mp4: 384x640 1 Monkeys, 11.6ms\n",
            "video 1/1 (55/4369) /content/keys.mp4: 384x640 1 Monkeys, 11.7ms\n",
            "video 1/1 (56/4369) /content/keys.mp4: 384x640 1 Monkeys, 10.3ms\n",
            "video 1/1 (57/4369) /content/keys.mp4: 384x640 1 Monkeys, 12.4ms\n",
            "video 1/1 (58/4369) /content/keys.mp4: 384x640 1 Monkeys, 11.1ms\n",
            "video 1/1 (59/4369) /content/keys.mp4: 384x640 1 Monkeys, 10.7ms\n",
            "video 1/1 (60/4369) /content/keys.mp4: 384x640 1 Monkeys, 12.6ms\n",
            "video 1/1 (61/4369) /content/keys.mp4: 384x640 1 Monkeys, 13.0ms\n",
            "video 1/1 (62/4369) /content/keys.mp4: 384x640 1 Monkeys, 12.1ms\n",
            "video 1/1 (63/4369) /content/keys.mp4: 384x640 1 Monkeys, 11.7ms\n",
            "video 1/1 (64/4369) /content/keys.mp4: 384x640 1 Monkeys, 12.4ms\n",
            "video 1/1 (65/4369) /content/keys.mp4: 384x640 1 Monkeys, 11.6ms\n",
            "video 1/1 (66/4369) /content/keys.mp4: 384x640 1 Monkeys, 12.4ms\n",
            "video 1/1 (67/4369) /content/keys.mp4: 384x640 1 Monkeys, 24.6ms\n",
            "video 1/1 (68/4369) /content/keys.mp4: 384x640 1 Monkeys, 11.3ms\n",
            "video 1/1 (69/4369) /content/keys.mp4: 384x640 1 Monkeys, 12.9ms\n",
            "video 1/1 (70/4369) /content/keys.mp4: 384x640 1 Monkeys, 12.3ms\n",
            "video 1/1 (71/4369) /content/keys.mp4: 384x640 1 Monkeys, 12.4ms\n",
            "\u001b[0;36m[h264 @ 0x8af19e40] \u001b[0m\u001b[1;31mReference 5 >= 5\n",
            "\u001b[0m\u001b[0;36m[h264 @ 0x8af19e40] \u001b[0m\u001b[1;31merror while decoding MB 101 42, bytestream 11392\n",
            "\u001b[0mvideo 1/1 (72/4369) /content/keys.mp4: 384x640 1 Monkeys, 12.0ms\n",
            "\u001b[1;36m[NULL @ 0x6bb13ac0] \u001b[0m\u001b[1;31mInvalid NAL unit size (-1665890778 > 9700).\n",
            "\u001b[0m\u001b[1;36m[NULL @ 0x6bb13ac0] \u001b[0m\u001b[1;31mmissing picture in access unit with size 9704\n",
            "\u001b[0m\u001b[0;36m[h264 @ 0x8aef2fc0] \u001b[0m\u001b[1;31mInvalid NAL unit size (-1665890778 > 9700).\n",
            "\u001b[0m\u001b[0;36m[h264 @ 0x8aef2fc0] \u001b[0m\u001b[1;31mError splitting the input into NAL units.\n",
            "\u001b[0mvideo 1/1 (73/4369) /content/keys.mp4: 384x640 1 Monkeys, 9.1ms\n",
            "\u001b[1;36m[NULL @ 0x6bb13ac0] \u001b[0m\u001b[1;31mInvalid NAL unit size (1991378361 > 2612).\n",
            "\u001b[0m\u001b[1;36m[NULL @ 0x6bb13ac0] \u001b[0m\u001b[1;31mmissing picture in access unit with size 2616\n",
            "\u001b[0m\u001b[0;36m[h264 @ 0x8af19e40] \u001b[0m\u001b[1;31mInvalid NAL unit size (1991378361 > 2612).\n",
            "\u001b[0m\u001b[0;36m[h264 @ 0x8af19e40] \u001b[0m\u001b[1;31mError splitting the input into NAL units.\n",
            "\u001b[0mSpeed: 0.6ms pre-process, 13.1ms inference, 1.2ms NMS per image at shape (1, 3, 640, 640)\n",
            "Results saved to \u001b[1mruns/detect/exp3\u001b[0m\n"
          ]
        }
      ]
    },
    {
      "cell_type": "code",
      "source": [
        "from google.colab import drive\n",
        "drive.mount('/content/drive')"
      ],
      "metadata": {
        "colab": {
          "base_uri": "https://localhost:8080/"
        },
        "id": "f14WZZb0GQ9p",
        "outputId": "a402c697-8bb7-455b-fdc8-42c47aa89c1f"
      },
      "execution_count": null,
      "outputs": [
        {
          "output_type": "stream",
          "name": "stdout",
          "text": [
            "Mounted at /content/drive\n"
          ]
        }
      ]
    }
  ]
}